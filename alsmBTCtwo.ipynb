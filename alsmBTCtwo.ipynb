{
 "cells": [
  {
   "cell_type": "markdown",
   "id": "c9cafed0",
   "metadata": {},
   "source": [
    "# ***Importando as bibliotecas necessárias***"
   ]
  },
  {
   "cell_type": "code",
   "execution_count": 1,
   "id": "186cbfeb",
   "metadata": {},
   "outputs": [],
   "source": [
    "import pandas as pd\n",
    "import numpy as np\n",
    "\n",
    "import time\n",
    "\n",
    "from typing import Union, Tuple, Optional\n",
    "\n",
    "from numpy import linalg as la\n",
    "import matplotlib.pyplot as plt\n",
    "\n",
    "from sklearn.metrics import mean_squared_error\n",
    "from sklearn.metrics import mean_absolute_error\n",
    "from sklearn.metrics import root_mean_squared_error"
   ]
  },
  {
   "cell_type": "markdown",
   "id": "b28c8a83",
   "metadata": {},
   "source": [
    "# ***Setando os parâmetros do modelo***"
   ]
  },
  {
   "cell_type": "code",
   "execution_count": 29,
   "id": "994be66e",
   "metadata": {},
   "outputs": [],
   "source": [
    "params = {\n",
    "    'filepath': 'dataBTC.xlsx',  # Caminho do arquivo '.xlsx' com os dados de entrada.\n",
    "    \n",
    "    'delay': 5,  # Número de atrasos (lags) usados como entrada para o modelo fuzzy. Ex: para delay=5, usa-se x[t-1] a x[t-5].\n",
    "    \n",
    "    'rules_number': 10,  # Número de regras fuzzy a serem utilizadas no modelo. Cada regra representa uma \"região\" do espaço de entrada.\n",
    "    \n",
    "    'alfa': 1000,  # Valor inicial para a matriz de ganho P0 = alfa * I no algoritmo de mínimos quadrados recursivo (equação 11). \n",
    "                   # Um valor grande permite atualizações maiores no início do treinamento.\n",
    "    \n",
    "    'lamb': 0.99,  # Fator de esquecimento (λ) que regula a influência dos dados antigos na atualização dos coeficientes.\n",
    "                   # Valores próximos de 1 consideram o histórico mais fortemente. \n",
    "    \n",
    "    'n': 999,   # Índice (linha) do último dado usado no conjunto de treinamento (inclusive).\n",
    "    'm': 2524,  # Índice (linha) do último dado considerado no teste (inclusive).\n",
    "    \n",
    "    'kz': None,  # Constante do kernel gaussiano (define a intensidade de ativação). \n",
    "\n",
    "    'zs': None   # Constante do kernel gaussiano (controla a largura da ativação).\n",
    "}   "
   ]
  },
  {
   "cell_type": "code",
   "execution_count": null,
   "id": "eafdd38e",
   "metadata": {},
   "outputs": [],
   "source": [
    "# Atribuição direta dos parâmetros a variáveis para facilitar o uso posterior no código\n",
    "\n",
    "filepath = params['filepath']  # Caminho do arquivo de dados\n",
    "\n",
    "delay = params['delay']  # Número de atrasos usados como entrada\n",
    "\n",
    "rules_number = params['rules_number']  # Número de regras fuzzy\n",
    "\n",
    "alfa = params['alfa']  # Valor inicial da matriz de ganho (P0)\n",
    "\n",
    "lamb = params['lamb']  # Fator de esquecimento no algoritmo de atualização\n",
    "\n",
    "n = params['n']  # Último índice da base de treinamento\n",
    "\n",
    "m = params['m']  # Último índice da base de teste\n",
    "\n",
    "kz = params['kz']  # Constante do kernel gaussiano (define a intensidade de ativação).  \n",
    "\n",
    "zs = params['zs']  # Constante do kernel gaussiano (controla a largura da ativação). \n",
    "\n",
    "# Cálculo de constantes do kernel Gaussiano (se necessário) para uso nas equações de atualização\n",
    "\n",
    "if kz is None:\n",
    "    kc = 1 / np.sqrt(2 * np.pi)\n",
    "    ze = 1.0\n",
    "    kz = kc / (ze ** 3)  \n",
    "    \n",
    "if zs is None:\n",
    "    ze = 1.0\n",
    "    zs = 1 / (2 * ze ** 2) "
   ]
  },
  {
   "cell_type": "code",
   "execution_count": 3,
   "id": "997c1ce2",
   "metadata": {},
   "outputs": [],
   "source": [
    "# Função temporária (provavelmente será substituída por alguma variação do K-means).\n",
    "def generate_centers_sigmas(n: int, d: int) -> tuple[np.ndarray, np.ndarray]:\n",
    "    \"\"\"\n",
    "        Description:\n",
    "            Gera aleatoriamente n centros e sigmas de dimensão d com valores entre 0 e 1.\n",
    "            \n",
    "        Args:\n",
    "            n (int): Número de centros e sigmas a serem gerados.\n",
    "            d (int): Dimensão de cada centro e sigma (delay).\n",
    "        \n",
    "        Return:\n",
    "            tuple[np.ndarray, np.ndarray]: Retorna dois arrays numpy de shape (n, d),\n",
    "            o primeiro representando os centros e o segundo os sigmas.\n",
    "    \"\"\"\n",
    "    \n",
    "    centers = np.random.rand(n, d) # Gera os centros aleatoriamente com valores entre 0 e 1\n",
    "    \n",
    "    sigmas = np.random.rand(n, d)  # Gera os sigmas aleatoriamente com valores entre 0 e 1\n",
    "    \n",
    "    return centers, sigmas # Retorna os centros e sigmas gerados"
   ]
  },
  {
   "cell_type": "code",
   "execution_count": null,
   "id": "e747a44c",
   "metadata": {},
   "outputs": [],
   "source": [
    "#centers, sigmas = generate_centers_sigmas(rules_number,delay) # Gera 5 centers e sigmas, cada um com delay dimensões."
   ]
  },
  {
   "cell_type": "code",
   "execution_count": null,
   "id": "ec62602e",
   "metadata": {},
   "outputs": [],
   "source": [
    "# Valor original de delay no código 'alsmBTCtwo.py' (mantido aqui para teste de equivalência de resultados entre os códigos).\n",
    "delay = 2\n",
    "\n",
    "# Centers usados no código original do 'alsmBTCtwo.py' (mantidos aqui para teste de equivalência de resultados entre os códigos).\n",
    "centers =  np.array([[0.10, 0.20],[0.80, 0.60]]) \n",
    "# Centers usados no código original do 'alsmBTCtwo.py' (mantidos aqui para teste de equivalência de resultados entre os códigos).\n",
    "sigmas = np.array([[0.55, 0.40],[0.55, 0.40]]) "
   ]
  },
  {
   "cell_type": "markdown",
   "id": "16b599bb",
   "metadata": {},
   "source": [
    "# ***Declarando algumas funções que serão úteis nessa implementação***"
   ]
  },
  {
   "cell_type": "markdown",
   "id": "844b148f",
   "metadata": {},
   "source": [
    "## *Funções de plot*"
   ]
  },
  {
   "cell_type": "code",
   "execution_count": 6,
   "id": "3a94c90d",
   "metadata": {},
   "outputs": [],
   "source": [
    "def plot_line_series(\n",
    "        series: Union[pd.Series, np.ndarray], \n",
    "        xlabel:str = 'x', \n",
    "        ylabel:str = 'y', \n",
    "        title:str = 'Line Plot', \n",
    "        label:str='Series'\n",
    "    ) -> None:\n",
    "    \n",
    "    \"\"\"\n",
    "        Description:\n",
    "            Plota uma série temporal ou sequência de valores como gráfico de linha.\n",
    "            \n",
    "        Args:\n",
    "            series (pd.Series | np.ndarray): Sequência de valores a serem plotados.\n",
    "            xlabel (str) [opcional]: Rótulo do eixo x. [Padrão: 'x'.]\n",
    "            ylabel (str) [opcional]: Rótulo do eixo y. [Padrão: 'y'.]\n",
    "            title (str) [opcional]: Título do gráfico. [Padrão: 'Line Plot'.]\n",
    "            label (str) [opcional]: Legenda da série. [Padrão: 'Series'].\n",
    "            \n",
    "        Return:\n",
    "            A função não retorna nada, apenas exibe um gráfico.\n",
    "    \"\"\"\n",
    "    \n",
    "    \n",
    "    plt.figure() # Cria uma nova figura para o gráfico\n",
    "    \n",
    "    plt.plot(series, label=label) # Plota a série no gráfico com a legenda definida\n",
    "    \n",
    "    plt.xlabel(xlabel) # Define o rótulo do eixo x\n",
    "    \n",
    "    plt.ylabel(ylabel) # Define o rótulo do eixo y\n",
    "    \n",
    "    plt.title(title) # Define o título do gráfico\n",
    "    \n",
    "    plt.legend() # Exibe a legenda no gráfico\n",
    "    \n",
    "    plt.show() # Exibe o gráfico gerado"
   ]
  },
  {
   "cell_type": "code",
   "execution_count": 7,
   "id": "5fa201a7",
   "metadata": {},
   "outputs": [],
   "source": [
    "def plot_comparison_series(\n",
    "    series_a: Union[pd.Series, np.ndarray],\n",
    "    series_b: Union[pd.Series, np.ndarray],\n",
    "    xlabel: str = 'x',\n",
    "    ylabel: str = 'y',\n",
    "    title: str = 'Comparison Plot',\n",
    "    legend_labels: Tuple[str, str] = ('Series A', 'Series B'),\n",
    "    ylim: Union[Tuple[float, float], None] = None\n",
    ") -> None:\n",
    "    \"\"\"\n",
    "        Description:\n",
    "            Plota duas séries temporais (por exemplo, para fins comparativos) em um gráfico de linha.\n",
    "        \n",
    "        Args:\n",
    "            series_a (pd.Series | np.ndarray): Primeira série a ser plotada.\n",
    "            series_b (pd.Series | np.ndarray): Segunda série a ser plotada.\n",
    "            xlabel (str) [opcional]: Rótulo do eixo x. [Padrão: 'x'.]\n",
    "            ylabel (str) [opcional]: Rótulo do eixo y. [Padrão: 'y'.]\n",
    "            title (str) [opcional]: Título do gráfico. [Padrão: 'Comparison Plot'.]\n",
    "            legend_labels (tuple[str, str]) [opcional]: Rótulos para a legenda das duas séries. [Padrão: ('Series A', 'Series B').]\n",
    "            ylim (tuple[float, float] | None) [opcional]: Limites do eixo y. [Padrão: None.]\n",
    "        \n",
    "        Return:\n",
    "            A função não retorna nada, apenas exibe um gráfico comparativo.\n",
    "    \"\"\"\n",
    "\n",
    "    plt.figure()  # Cria uma nova figura para o gráfico\n",
    "\n",
    "    plt.plot(series_a, label=legend_labels[0])  # Plota a primeira série\n",
    "    plt.plot(series_b, label=legend_labels[1])  # Plota a segunda série\n",
    "\n",
    "    plt.xlabel(xlabel)  # Define o rótulo do eixo x\n",
    "    plt.ylabel(ylabel)  # Define o rótulo do eixo y\n",
    "    plt.title(title)  # Define o título do gráfico\n",
    "\n",
    "    if ylim:\n",
    "        plt.ylim(ylim)  # Define os limites do eixo y, se especificado\n",
    "\n",
    "    plt.legend(loc='upper right')  # Adiciona a legenda no canto superior direito\n",
    "    plt.show()  # Exibe o gráfico gerado"
   ]
  },
  {
   "cell_type": "markdown",
   "id": "48c8f602",
   "metadata": {},
   "source": [
    "## *Função para gerar os dados de treino e teste*"
   ]
  },
  {
   "cell_type": "code",
   "execution_count": 8,
   "id": "0d23327e",
   "metadata": {},
   "outputs": [],
   "source": [
    "def create_train_test_lagged_dataset(\n",
    "    data: Union[pd.Series, np.ndarray], \n",
    "    train_start_idx: int,\n",
    "    train_end_idx: int,\n",
    "    test_start_idx: int,\n",
    "    test_end_idx: int,\n",
    "    delay: int\n",
    ") -> Tuple[np.ndarray, np.ndarray, np.ndarray, np.ndarray]:\n",
    "    \n",
    "    \"\"\"\n",
    "        Description:\n",
    "            Cria conjuntos de treino e teste com defasagem (lagged datasets) a partir de uma série temporal.\n",
    "        \n",
    "        Args:\n",
    "            data (pd.Series | np.ndarray | list): Série temporal original.\n",
    "            train_start_idx (int): Índice inicial para o conjunto de treino.\n",
    "            train_end_idx (int): Índice final para o conjunto de treino.\n",
    "            test_start_idx (int): Índice inicial para o conjunto de teste.\n",
    "            test_end_idx (int): Índice final para o conjunto de teste.\n",
    "            delay (int): Número de defasagens (lags) a serem consideradas.\n",
    "        \n",
    "        Return:\n",
    "            Tuple[np.ndarray, np.ndarray, np.ndarray, np.ndarray]: Uma tupla contendo:\n",
    "                - X_train: Matriz de features de treino com as defasagens, formato (n_train_samples, delay).\n",
    "                - y_train: Vetor de alvos de treino, formato (n_train_samples,).\n",
    "                - X_test: Matriz de features de teste com as defasagens, formato (n_test_samples, delay).\n",
    "                - y_test: Vetor de alvos de teste, formato (n_test_samples,).\n",
    "    \"\"\"\n",
    "\n",
    "    # Cria o conjunto de treino\n",
    "    n_train_samples = train_end_idx - train_start_idx - delay + 1\n",
    "    X_train = np.zeros((n_train_samples, delay)) # Matriz de entradas do conjunto de treino, cada linha com 'delay' lags\n",
    "    y_train = np.zeros(n_train_samples) # Vetor de saídas (targets) do treino, correspondentes aos valores futuros após os lags\n",
    "\n",
    "    for i in range(n_train_samples):\n",
    "        for j in range(delay):\n",
    "            X_train[i, j] = data[train_start_idx + i + j]\n",
    "        y_train[i] = data[train_start_idx + i + delay]\n",
    "    \n",
    "    # Cria o conjunto de teste\n",
    "    n_test_samples = test_end_idx - test_start_idx\n",
    "    X_test = np.zeros((n_test_samples, delay)) # Matriz de entradas do conjunto de teste, com mesma estrutura de lags\n",
    "    y_test = np.zeros(n_test_samples) # Vetor de saídas (targets) do teste, para avaliar a previsão do modelo\n",
    "    \n",
    "    for i in range(n_test_samples):\n",
    "        for j in range(delay):\n",
    "            X_test[i, j] = data[test_start_idx - delay + 1 + i + j]\n",
    "        y_test[i] = data[test_start_idx + i + 1]\n",
    "    \n",
    "    return X_train, y_train, X_test, y_test"
   ]
  },
  {
   "cell_type": "markdown",
   "id": "0091c83f",
   "metadata": {},
   "source": [
    "## *Funções de pertinência*"
   ]
  },
  {
   "cell_type": "code",
   "execution_count": 9,
   "id": "82546c63",
   "metadata": {},
   "outputs": [],
   "source": [
    "def gaussmf(\n",
    "    x: Union[float, np.ndarray], \n",
    "    c: float, \n",
    "    s: float\n",
    ") -> Union[float, np.ndarray]:\n",
    "    \n",
    "    \"\"\"\n",
    "        Description:\n",
    "            Calcula o grau de pertinência usando uma função de pertinência gaussiana.\n",
    "        \n",
    "        Args:\n",
    "            x (float | np.ndarray): Valor(es) de entrada para calcular o grau de pertinência.\n",
    "            c (float): Centro da função gaussiana.\n",
    "            s (float): Desvio padrão da função gaussiana.\n",
    "        \n",
    "        Return:\n",
    "            float | np.ndarray: Grau de pertinência calculado para o(s) valor(es) de entrada.\n",
    "    \"\"\"\n",
    "    \n",
    "    aux = (x - c)/s  # Calcula a distância normalizada do valor ao centro\n",
    "    z = np.exp(-(aux*aux)/2)  # Aplica a fórmula da função gaussiana\n",
    "    return z"
   ]
  },
  {
   "cell_type": "code",
   "execution_count": 10,
   "id": "b63a3f3e",
   "metadata": {},
   "outputs": [],
   "source": [
    "def gaussgranules(\n",
    "    x: np.ndarray, \n",
    "    centers: np.ndarray, \n",
    "    sigmas: np.ndarray\n",
    ") -> np.ndarray:\n",
    "    \n",
    "    \"\"\"\n",
    "        Description:\n",
    "            Calcula as ativações de múltiplas regras fuzzy usando funções gaussianas.\n",
    "        \n",
    "        Args:\n",
    "            x (np.ndarray): Vetor de entrada de dimensão d.\n",
    "            centers (np.ndarray): Array de formato (N, d) com os centros das N regras.\n",
    "            sigmas (np.ndarray): Array de formato (N, d) com os desvios padrão das N regras.\n",
    "        \n",
    "        Return:\n",
    "            np.ndarray: Array de formato (N,) contendo o grau de ativação para cada uma das N regras.\n",
    "    \"\"\"\n",
    "    \n",
    "    # Um centro c = (c_{1},c_{2},...,c_{n}) e um desvio padrão s = (s_{1},s_{2},...,s_{n}) definem uma regra fuzzy (chamemos r).\n",
    "    # Quando aplicamos gaussmf(x,c,s) para x = (x_{1},x_{2},...,x_{n}) obtemos o grau de pertencimento do vetor x à regra r.\n",
    "    \n",
    "    N, d = centers.shape  # N é o número de regras, d é a dimensão representada pelo delay\n",
    "    activations = []  # Lista para armazenar as ativações de cada regra\n",
    "    \n",
    "    for i in range(N):\n",
    "        mu = 1.0  # Inicializa o grau de pertinência como 1\n",
    "        for j in range(d):\n",
    "            # Multiplica o grau de pertinência pela ativação da j-ésima dimensão\n",
    "            mu *= gaussmf(x[j], centers[i, j], sigmas[i, j]) # Multiplica o grau de pertinência da dimensão j de x à regra i\n",
    "        activations.append(mu)  # Adiciona o resultado à lista de ativações\n",
    "    \n",
    "    return np.array(activations)  # Converte a lista para um array numpy"
   ]
  },
  {
   "cell_type": "markdown",
   "id": "65af0a61",
   "metadata": {},
   "source": [
    "## *Funções para treinar o modelo*"
   ]
  },
  {
   "cell_type": "code",
   "execution_count": 32,
   "id": "061e0881",
   "metadata": {},
   "outputs": [],
   "source": [
    "def train_model(\n",
    "    Xtrain: np.ndarray,\n",
    "    ytrain: np.ndarray,\n",
    "    r: int,\n",
    "    lamb: float,\n",
    "    alfa: float,\n",
    "    kz: float,\n",
    "    zs: float,\n",
    "    centers: np.ndarray,\n",
    "    sigmas: np.ndarray\n",
    ") -> Tuple[np.ndarray, np.ndarray, np.ndarray, np.ndarray]:\n",
    "    \n",
    "    \"\"\"\n",
    "    Description:\n",
    "        Treina um modelo ALSM com atualização online dos parâmetros.\n",
    "        Usa ativações gaussianas e fator de confiança adaptativo psi.\n",
    "\n",
    "    Args:\n",
    "        Xtrain (np.ndarray): Dados de entrada de treinamento (n_amostras x n_features).\n",
    "        ytrain (np.ndarray): Valores alvo reais para o treinamento.\n",
    "        r (int): Número de regras fuzzy (granulações gaussianas).\n",
    "        lamb (float): Fator de esquecimento (λ) para atualização recursiva.\n",
    "        alfa (float): Valor inicial para a matriz de covariância P.\n",
    "        kz (float): Constante do kernel gaussiano (definindo a intensidade de ativação).\n",
    "        zs (float): Constante do kernel gaussiano (controla a largura da ativação).\n",
    "        centers (np.ndarray): Vetor com os centros das funções gaussianas.\n",
    "        sigmas (np.ndarray): Vetor com os desvios padrão das funções gaussianas.\n",
    "\n",
    "\n",
    "    Returns:\n",
    "        Tuple[np.ndarray, np.ndarray, np.ndarray, np.ndarray]:\n",
    "            - OT: Saídas previstas pelo modelo no treinamento.\n",
    "            - norm: Norma do vetor de parâmetros u a cada iteração.\n",
    "            - u: Vetor de parâmetros finais do modelo.\n",
    "            - P: Matriz de covariância adaptada final.\n",
    "    \"\"\"\n",
    "\n",
    "    ndatatrain = Xtrain.shape[0]\n",
    "    OT = np.zeros(ndatatrain)\n",
    "    norm = np.zeros(ndatatrain)\n",
    "\n",
    "    P = alfa * np.eye(2 * r)\n",
    "    u = np.zeros(2 * r)\n",
    "    a = np.zeros(2 * r)\n",
    "\n",
    "    st = time.process_time()\n",
    "\n",
    "    for t in range(ndatatrain):\n",
    "        x = Xtrain[t]\n",
    "        d = gaussgranules(x, centers, sigmas)\n",
    "        sumd = np.sum(d)\n",
    "\n",
    "        for j in range(r):\n",
    "            a[2 * j]     = d[j]**2 / sumd\n",
    "            a[2 * j + 1] = d[j]    / sumd\n",
    "\n",
    "        erro = ytrain[t] - np.dot(a, u)\n",
    "        sq = np.abs(erro)**2\n",
    "        psi = kz * np.exp(-sq / zs)\n",
    "\n",
    "        b = lamb + psi * np.dot(np.dot(a, P), a)\n",
    "        Pa = np.dot(P, a)\n",
    "        P = (P - psi * np.outer(Pa, Pa) / b) / lamb\n",
    "        u += psi * np.dot(P, a) * erro\n",
    "\n",
    "        OT[t] = np.dot(a, u)\n",
    "        norm[t] = np.linalg.norm(u)\n",
    "\n",
    "    et = time.process_time()\n",
    "    print(\"CPU execution time (training):\", et - st, \"seconds\")\n",
    "\n",
    "    return OT, norm, u, P"
   ]
  },
  {
   "cell_type": "code",
   "execution_count": 33,
   "id": "863b484d",
   "metadata": {},
   "outputs": [],
   "source": [
    "def test_model(\n",
    "    Xtest: np.ndarray,\n",
    "    ytest: np.ndarray,\n",
    "    r: int,\n",
    "    lamb: float,\n",
    "    P: np.ndarray,\n",
    "    u: np.ndarray,\n",
    "    centers: np.ndarray,\n",
    "    sigmas: np.ndarray\n",
    ") -> np.ndarray:\n",
    "    \n",
    "    \"\"\"\n",
    "    Description:\n",
    "        Realiza a predição adaptativa com o modelo ALSM usando atualização online dos parâmetros\n",
    "        para cada nova amostra do conjunto de teste.\n",
    "\n",
    "    Args:\n",
    "        Xtest (np.ndarray): Dados de entrada para teste (n_amostras x n_features).\n",
    "        ytest (np.ndarray): Valores reais do conjunto de teste.\n",
    "        r (int): Número de regras fuzzy (granulações gaussianas).\n",
    "        lamb (float): Fator de esquecimento (λ) da atualização adaptativa.\n",
    "        P (np.ndarray): Matriz de covariância proveniente do treinamento.\n",
    "        u (np.ndarray): Vetor de parâmetros proveniente do treinamento.\n",
    "        centers (np.ndarray): Centros das funções de pertinência gaussianas.\n",
    "        sigmas (np.ndarray): Desvios padrão das funções gaussianas.\n",
    "\n",
    "    Returns:\n",
    "        np.ndarray: Saídas previstas (OS) para o conjunto de teste.\n",
    "    \"\"\"\n",
    "    \n",
    "    ndatatest = Xtest.shape[0]\n",
    "    OS = np.zeros(ndatatest)\n",
    "    a = np.zeros(2 * r)\n",
    "\n",
    "    st = time.process_time()\n",
    "    \n",
    "    for t in range(ndatatest):\n",
    "        x = Xtest[t]\n",
    "        d = gaussgranules(x, centers, sigmas)\n",
    "        sumd = np.sum(d)\n",
    "\n",
    "        for j in range(r):\n",
    "            a[2 * j]     = d[j]**2 / sumd\n",
    "            a[2 * j + 1] = d[j]    / sumd\n",
    "\n",
    "        b = lamb + np.dot(np.dot(a, P), a)\n",
    "        Pa = np.dot(P, a)\n",
    "        P = (P - np.outer(Pa, Pa) / b) / lamb\n",
    "        u += np.dot(P, a) * (ytest[t] - np.dot(a, u))\n",
    "\n",
    "        OS[t] = np.dot(a, u)\n",
    "\n",
    "    et = time.process_time()\n",
    "    print(\"CPU execution time (testing):\", et - st, \"seconds\")\n",
    "    \n",
    "    return OS"
   ]
  },
  {
   "cell_type": "markdown",
   "id": "f771cd46",
   "metadata": {},
   "source": [
    "# ***Implementação do modelo***"
   ]
  },
  {
   "cell_type": "markdown",
   "id": "10e82345",
   "metadata": {},
   "source": [
    "## *Visualizações iniciais*"
   ]
  },
  {
   "cell_type": "code",
   "execution_count": 13,
   "id": "0d7ac690",
   "metadata": {},
   "outputs": [
    {
     "name": "stderr",
     "output_type": "stream",
     "text": [
      "/home/user/.local/lib/python3.10/site-packages/openpyxl/worksheet/_reader.py:329: UserWarning: Unknown extension is not supported and will be removed\n",
      "  warn(msg)\n"
     ]
    },
    {
     "data": {
      "text/html": [
       "<div>\n",
       "<style scoped>\n",
       "    .dataframe tbody tr th:only-of-type {\n",
       "        vertical-align: middle;\n",
       "    }\n",
       "\n",
       "    .dataframe tbody tr th {\n",
       "        vertical-align: top;\n",
       "    }\n",
       "\n",
       "    .dataframe thead th {\n",
       "        text-align: right;\n",
       "    }\n",
       "</style>\n",
       "<table border=\"1\" class=\"dataframe\">\n",
       "  <thead>\n",
       "    <tr style=\"text-align: right;\">\n",
       "      <th></th>\n",
       "      <th>y</th>\n",
       "      <th>Unnamed: 1</th>\n",
       "      <th>max</th>\n",
       "      <th>min</th>\n",
       "    </tr>\n",
       "  </thead>\n",
       "  <tbody>\n",
       "    <tr>\n",
       "      <th>0</th>\n",
       "      <td>0.113554</td>\n",
       "      <td>NaN</td>\n",
       "      <td>1.755024</td>\n",
       "      <td>0.000132</td>\n",
       "    </tr>\n",
       "    <tr>\n",
       "      <th>1</th>\n",
       "      <td>0.059096</td>\n",
       "      <td>NaN</td>\n",
       "      <td>NaN</td>\n",
       "      <td>NaN</td>\n",
       "    </tr>\n",
       "    <tr>\n",
       "      <th>2</th>\n",
       "      <td>0.058521</td>\n",
       "      <td>NaN</td>\n",
       "      <td>NaN</td>\n",
       "      <td>NaN</td>\n",
       "    </tr>\n",
       "    <tr>\n",
       "      <th>3</th>\n",
       "      <td>0.080239</td>\n",
       "      <td>NaN</td>\n",
       "      <td>NaN</td>\n",
       "      <td>NaN</td>\n",
       "    </tr>\n",
       "    <tr>\n",
       "      <th>4</th>\n",
       "      <td>0.048047</td>\n",
       "      <td>NaN</td>\n",
       "      <td>NaN</td>\n",
       "      <td>NaN</td>\n",
       "    </tr>\n",
       "    <tr>\n",
       "      <th>...</th>\n",
       "      <td>...</td>\n",
       "      <td>...</td>\n",
       "      <td>...</td>\n",
       "      <td>...</td>\n",
       "    </tr>\n",
       "    <tr>\n",
       "      <th>2520</th>\n",
       "      <td>0.019472</td>\n",
       "      <td>NaN</td>\n",
       "      <td>NaN</td>\n",
       "      <td>NaN</td>\n",
       "    </tr>\n",
       "    <tr>\n",
       "      <th>2521</th>\n",
       "      <td>0.009534</td>\n",
       "      <td>NaN</td>\n",
       "      <td>NaN</td>\n",
       "      <td>NaN</td>\n",
       "    </tr>\n",
       "    <tr>\n",
       "      <th>2522</th>\n",
       "      <td>0.006666</td>\n",
       "      <td>NaN</td>\n",
       "      <td>NaN</td>\n",
       "      <td>NaN</td>\n",
       "    </tr>\n",
       "    <tr>\n",
       "      <th>2523</th>\n",
       "      <td>0.006562</td>\n",
       "      <td>NaN</td>\n",
       "      <td>NaN</td>\n",
       "      <td>NaN</td>\n",
       "    </tr>\n",
       "    <tr>\n",
       "      <th>2524</th>\n",
       "      <td>0.002105</td>\n",
       "      <td>NaN</td>\n",
       "      <td>NaN</td>\n",
       "      <td>NaN</td>\n",
       "    </tr>\n",
       "  </tbody>\n",
       "</table>\n",
       "<p>2525 rows × 4 columns</p>\n",
       "</div>"
      ],
      "text/plain": [
       "             y  Unnamed: 1       max       min\n",
       "0     0.113554         NaN  1.755024  0.000132\n",
       "1     0.059096         NaN       NaN       NaN\n",
       "2     0.058521         NaN       NaN       NaN\n",
       "3     0.080239         NaN       NaN       NaN\n",
       "4     0.048047         NaN       NaN       NaN\n",
       "...        ...         ...       ...       ...\n",
       "2520  0.019472         NaN       NaN       NaN\n",
       "2521  0.009534         NaN       NaN       NaN\n",
       "2522  0.006666         NaN       NaN       NaN\n",
       "2523  0.006562         NaN       NaN       NaN\n",
       "2524  0.002105         NaN       NaN       NaN\n",
       "\n",
       "[2525 rows x 4 columns]"
      ]
     },
     "execution_count": 13,
     "metadata": {},
     "output_type": "execute_result"
    }
   ],
   "source": [
    "# Lê os dados que serão usados para treinar e testar o modelo.\n",
    "df = pd.read_excel(filepath)\n",
    "\n",
    "# Exibe uma visão parcial dos dados lidos.\n",
    "df"
   ]
  },
  {
   "cell_type": "code",
   "execution_count": 14,
   "id": "37acf0ca",
   "metadata": {},
   "outputs": [
    {
     "data": {
      "text/plain": [
       "array([0.11355383, 0.05909608, 0.05852059, ..., 0.0066655 , 0.0065616 ,\n",
       "       0.0021047 ])"
      ]
     },
     "execution_count": 14,
     "metadata": {},
     "output_type": "execute_result"
    }
   ],
   "source": [
    "# Transforma a pd.Series \"df['y']\" em um nd.ndarray.\n",
    "data = df['y'].to_numpy()   \n",
    "\n",
    "# Exibe o nd.ndarray obtido acima.\n",
    "data"
   ]
  },
  {
   "cell_type": "code",
   "execution_count": 15,
   "id": "b3500622",
   "metadata": {},
   "outputs": [],
   "source": [
    "# Inicializa Xtrain, ytrain, Xtest e ytest.\n",
    "Xtrain, ytrain, Xtest, ytest = create_train_test_lagged_dataset(data, 0, n, n, m, delay)"
   ]
  },
  {
   "cell_type": "code",
   "execution_count": 16,
   "id": "cda6f419",
   "metadata": {},
   "outputs": [
    {
     "data": {
      "image/png": "[encoded data removed]",
      "text/plain": [
       "<Figure size 640x480 with 1 Axes>"
      ]
     },
     "metadata": {},
     "output_type": "display_data"
    }
   ],
   "source": [
    "plot_line_series(ytrain, 'k', 'y', 'Train data')"
   ]
  },
  {
   "cell_type": "code",
   "execution_count": 17,
   "id": "f625188f",
   "metadata": {},
   "outputs": [
    {
     "data": {
      "image/png": "[encoded data removed]",
      "text/plain": [
       "<Figure size 640x480 with 1 Axes>"
      ]
     },
     "metadata": {},
     "output_type": "display_data"
    }
   ],
   "source": [
    "plot_line_series(ytest, 'k', 'y', 'Test data')"
   ]
  },
  {
   "cell_type": "code",
   "execution_count": 18,
   "id": "a223c233",
   "metadata": {},
   "outputs": [],
   "source": [
    "# Obtém o número de regras (granulações) com base na primeira amostra de Xtrain.\n",
    "r = gaussgranules(Xtrain[0], centers, sigmas).size"
   ]
  },
  {
   "cell_type": "code",
   "execution_count": 19,
   "id": "4395e1ba",
   "metadata": {},
   "outputs": [
    {
     "data": {
      "text/plain": [
       "2"
      ]
     },
     "execution_count": 19,
     "metadata": {},
     "output_type": "execute_result"
    }
   ],
   "source": [
    "r"
   ]
  },
  {
   "cell_type": "markdown",
   "id": "67de43cb",
   "metadata": {},
   "source": [
    "## *Treinamento e teste do modelo*"
   ]
  },
  {
   "cell_type": "code",
   "execution_count": 34,
   "id": "66217061",
   "metadata": {},
   "outputs": [
    {
     "name": "stdout",
     "output_type": "stream",
     "text": [
      "CPU execution time (training): 0.16482556299999906 seconds\n"
     ]
    }
   ],
   "source": [
    "# Treina o modelo.\n",
    "OT, norm, u, P = train_model(\n",
    "    Xtrain=Xtrain,\n",
    "    ytrain=ytrain,\n",
    "    r=r,\n",
    "    lamb=lamb,\n",
    "    alfa=alfa,\n",
    "    kz=kz,\n",
    "    zs=zs,\n",
    "    centers=centers,\n",
    "    sigmas=sigmas\n",
    ")"
   ]
  },
  {
   "cell_type": "code",
   "execution_count": 35,
   "id": "de96e933",
   "metadata": {},
   "outputs": [
    {
     "data": {
      "image/png": "[encoded data removed]",
      "text/plain": [
       "<Figure size 640x480 with 1 Axes>"
      ]
     },
     "metadata": {},
     "output_type": "display_data"
    }
   ],
   "source": [
    "# Exibe a evolução da norma ao longo dos passos.\n",
    "plot_line_series(norm, 'steps', 'Norm', 'Norm', 'norm')"
   ]
  },
  {
   "cell_type": "code",
   "execution_count": 22,
   "id": "9c52abd0",
   "metadata": {},
   "outputs": [
    {
     "name": "stdout",
     "output_type": "stream",
     "text": [
      "mse  train = 0.00414300389954774\n",
      "nrms train = 0.7879801733610144\n",
      "rmse train = 0.06436617045892773\n",
      "mae  train = 0.01838947390363763\n"
     ]
    }
   ],
   "source": [
    "# Exibe algumas métricas de erro de treinamento.\n",
    "print('mse  train =', mean_squared_error(ytrain, OT))\n",
    "print('nrms train =', root_mean_squared_error(ytrain, OT)/ytrain.std())\n",
    "print('rmse train =', root_mean_squared_error(ytrain, OT))\n",
    "print('mae  train =', mean_absolute_error(ytrain, OT))"
   ]
  },
  {
   "cell_type": "code",
   "execution_count": 23,
   "id": "71458d4a",
   "metadata": {},
   "outputs": [
    {
     "data": {
      "image/png": "[encoded data removed]",
      "text/plain": [
       "<Figure size 640x480 with 1 Axes>"
      ]
     },
     "metadata": {},
     "output_type": "display_data"
    }
   ],
   "source": [
    "# Plota a série temporal prevista pelo modelo ALSM durante o treinamento em comparação com os valores reais (ytrain).\n",
    "plot_comparison_series(ytrain, OT, 'k', 'y', 'Forecast (train)', ('Actual', 'ALSM'))"
   ]
  },
  {
   "cell_type": "code",
   "execution_count": 24,
   "id": "e6e99a03",
   "metadata": {},
   "outputs": [
    {
     "name": "stdout",
     "output_type": "stream",
     "text": [
      "CPU execution time (training): 0.2563893680000007 seconds\n"
     ]
    }
   ],
   "source": [
    "# Testa o modelo.\n",
    "OS = test_model(\n",
    "    Xtest=Xtest,\n",
    "    ytest=ytest,\n",
    "    r=r,\n",
    "    lamb=lamb,\n",
    "    P=P,\n",
    "    u=u,\n",
    "    centers=centers,\n",
    "    sigmas=sigmas\n",
    ")"
   ]
  },
  {
   "cell_type": "code",
   "execution_count": 38,
   "id": "51005413",
   "metadata": {},
   "outputs": [
    {
     "name": "stdout",
     "output_type": "stream",
     "text": [
      "MSE   test = 0.0011949922845992365\n",
      "NRMSE test = 0.8366469919409039\n",
      "RMSE  test = 0.03456866043975723\n",
      "MAE   test = 0.011450247775351063\n"
     ]
    }
   ],
   "source": [
    "# Exibe algumas métricas de erro de teste.\n",
    "print('MSE   test =', mean_squared_error(ytest, OS))\n",
    "print('NRMSE test =', root_mean_squared_error(ytest, OS)/ytest.std())\n",
    "print('RMSE  test =', root_mean_squared_error(ytest, OS))\n",
    "print('MAE   test =', mean_absolute_error(ytest, OS))"
   ]
  },
  {
   "cell_type": "code",
   "execution_count": 26,
   "id": "404f0d8a",
   "metadata": {},
   "outputs": [
    {
     "data": {
      "image/png": "[encoded data removed]",
      "text/plain": [
       "<Figure size 640x480 with 1 Axes>"
      ]
     },
     "metadata": {},
     "output_type": "display_data"
    }
   ],
   "source": [
    "# Plota a série temporal prevista pelo modelo ALSM durante o teste em comparação com os valores reais (ytest).\n",
    "plot_comparison_series(ytest, OS, 'day', 'RV', 'Forecast (test)', ('Actual', 'ALSM2'))"
   ]
  }
 ],
 "metadata": {
  "kernelspec": {
   "display_name": "Python 3",
   "language": "python",
   "name": "python3"
  },
  "language_info": {
   "codemirror_mode": {
    "name": "ipython",
    "version": 3
   },
   "file_extension": ".py",
   "mimetype": "text/x-python",
   "name": "python",
   "nbconvert_exporter": "python",
   "pygments_lexer": "ipython3",
   "version": "3.10.12"
  }
 },
 "nbformat": 4,
 "nbformat_minor": 5
}
